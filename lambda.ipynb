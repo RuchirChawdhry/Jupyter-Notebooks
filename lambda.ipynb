{
 "cells": [
  {
   "cell_type": "code",
   "execution_count": 2,
   "metadata": {
    "ExecuteTime": {
     "end_time": "2020-02-11T01:29:55.908291Z",
     "start_time": "2020-02-11T01:29:55.885431Z"
    }
   },
   "outputs": [
    {
     "name": "stdout",
     "output_type": "stream",
     "text": [
      "[0, 6105, 2178]\n"
     ]
    }
   ],
   "source": [
    "# multiple iterators => map w/ lambda\n",
    "\n",
    "a = [10, 55, 99]\n",
    "b = [0, 111, 22]\n",
    "\n",
    "product = map(lambda x, y: x*y, a, b)\n",
    "print(list(product))"
   ]
  },
  {
   "cell_type": "code",
   "execution_count": 3,
   "metadata": {
    "ExecuteTime": {
     "end_time": "2020-02-11T01:29:56.166883Z",
     "start_time": "2020-02-11T01:29:55.916304Z"
    }
   },
   "outputs": [
    {
     "name": "stdout",
     "output_type": "stream",
     "text": [
      "[100, 121, 144]\n"
     ]
    }
   ],
   "source": [
    "n = [10, 11, 12]\n",
    "product = map(lambda x: x*x, n)\n",
    "print(list(product))"
   ]
  },
  {
   "cell_type": "code",
   "execution_count": 4,
   "metadata": {
    "ExecuteTime": {
     "end_time": "2020-02-11T01:29:56.764245Z",
     "start_time": "2020-02-11T01:29:56.170801Z"
    }
   },
   "outputs": [
    {
     "data": {
      "text/plain": [
       "'Full Name: Ruchir Chawdhry'"
      ]
     },
     "execution_count": 4,
     "metadata": {},
     "output_type": "execute_result"
    }
   ],
   "source": [
    "full_name = lambda x, y: f\"Full Name: {x.capitalize()} {y.capitalize()}\"\n",
    "full_name(\"ruchir\", \"chawdhry\")"
   ]
  },
  {
   "cell_type": "code",
   "execution_count": 5,
   "metadata": {
    "ExecuteTime": {
     "end_time": "2020-02-11T01:29:56.789331Z",
     "start_time": "2020-02-11T01:29:56.766767Z"
    }
   },
   "outputs": [
    {
     "name": "stdout",
     "output_type": "stream",
     "text": [
      "5 is odd\n",
      "0 is even\n",
      "551 is odd\n"
     ]
    }
   ],
   "source": [
    "odd_or_even = lambda x: x%2 and f\"{x} is odd\" or f\"{x} is even\"\n",
    "\n",
    "print(odd_or_even(5))\n",
    "print(odd_or_even(0))\n",
    "print(odd_or_even(551))"
   ]
  },
  {
   "cell_type": "code",
   "execution_count": 6,
   "metadata": {
    "ExecuteTime": {
     "end_time": "2020-02-11T01:29:56.815848Z",
     "start_time": "2020-02-11T01:29:56.797713Z"
    }
   },
   "outputs": [
    {
     "data": {
      "text/plain": [
       "['MANJARO', 'UBUNTU', 'GENTOO']"
      ]
     },
     "execution_count": 6,
     "metadata": {},
     "output_type": "execute_result"
    }
   ],
   "source": [
    "list(map(lambda x: x.upper(), ['manjaro', 'ubuntu', 'gentoo']))"
   ]
  },
  {
   "cell_type": "code",
   "execution_count": 7,
   "metadata": {
    "ExecuteTime": {
     "end_time": "2020-02-11T01:29:56.867297Z",
     "start_time": "2020-02-11T01:29:56.824415Z"
    }
   },
   "outputs": [
    {
     "data": {
      "text/plain": [
       "[False, True, False]"
      ]
     },
     "execution_count": 7,
     "metadata": {},
     "output_type": "execute_result"
    }
   ],
   "source": [
    "list(map(lambda x: 'o' in x.lower(), ['mac', 'windows', 'linux']))"
   ]
  },
  {
   "cell_type": "code",
   "execution_count": 8,
   "metadata": {
    "ExecuteTime": {
     "end_time": "2020-02-11T01:29:56.941517Z",
     "start_time": "2020-02-11T01:29:56.873427Z"
    }
   },
   "outputs": [
    {
     "data": {
      "text/plain": [
       "['windows']"
      ]
     },
     "execution_count": 8,
     "metadata": {},
     "output_type": "execute_result"
    }
   ],
   "source": [
    "list(filter(lambda x: 'o' in x.lower(), ['mac', 'windows', 'linux']))"
   ]
  },
  {
   "cell_type": "code",
   "execution_count": 9,
   "metadata": {
    "ExecuteTime": {
     "end_time": "2020-02-11T01:29:57.000742Z",
     "start_time": "2020-02-11T01:29:56.956714Z"
    }
   },
   "outputs": [
    {
     "name": "stdout",
     "output_type": "stream",
     "text": [
      "['roll2', 'roll232', 'roll432', 'roll99']\n",
      "['roll2', 'roll99', 'roll232', 'roll432']\n"
     ]
    }
   ],
   "source": [
    "l = ['roll432', 'roll232', 'roll2', 'roll99']\n",
    "print(sorted(l))\n",
    "print(sorted(l, key = lambda x: int(x[4:])))"
   ]
  },
  {
   "cell_type": "code",
   "execution_count": 10,
   "metadata": {
    "ExecuteTime": {
     "end_time": "2020-02-11T01:29:57.053188Z",
     "start_time": "2020-02-11T01:29:57.015618Z"
    }
   },
   "outputs": [
    {
     "name": "stdout",
     "output_type": "stream",
     "text": [
      "teerts\n",
      "street\n",
      "elcycib\n",
      "3901\n"
     ]
    }
   ],
   "source": [
    "reverse = lambda x: str(x)[::-1]\n",
    "print(reverse('street'))\n",
    "print(reverse('teerts'))\n",
    "print(reverse('bicycle'))\n",
    "print(reverse(1093))"
   ]
  },
  {
   "cell_type": "code",
   "execution_count": 11,
   "metadata": {
    "ExecuteTime": {
     "end_time": "2020-02-11T01:29:57.086564Z",
     "start_time": "2020-02-11T01:29:57.055669Z"
    }
   },
   "outputs": [
    {
     "name": "stdout",
     "output_type": "stream",
     "text": [
      "5\n",
      "12\n"
     ]
    }
   ],
   "source": [
    "# specifying default arguments\n",
    "c = lambda x, y=0: x + y\n",
    "print(c(5))\n",
    "print(c(5, 7))"
   ]
  },
  {
   "cell_type": "code",
   "execution_count": 12,
   "metadata": {
    "ExecuteTime": {
     "end_time": "2020-02-11T01:29:57.117720Z",
     "start_time": "2020-02-11T01:29:57.089604Z"
    }
   },
   "outputs": [
    {
     "name": "stdout",
     "output_type": "stream",
     "text": [
      "root is not a palindrome\n",
      "level is a palindrome\n"
     ]
    }
   ],
   "source": [
    "# finding palindrome in a string\n",
    "palindrome = lambda x: (x==str(x[::-1]) and f\"{x} is a palindrome\" or f\"{x} is not a palindrome\")\n",
    "print(palindrome(\"root\"))\n",
    "print(palindrome(\"level\"))"
   ]
  },
  {
   "cell_type": "code",
   "execution_count": 13,
   "metadata": {
    "ExecuteTime": {
     "end_time": "2020-02-11T01:29:57.168750Z",
     "start_time": "2020-02-11T01:29:57.121441Z"
    }
   },
   "outputs": [
    {
     "name": "stdout",
     "output_type": "stream",
     "text": [
      "Palindromes = ['civic', 'racecar']\n",
      "Not Palindromes = {'bottle', 'root'}\n"
     ]
    }
   ],
   "source": [
    "# finding palindromes in a list of strings\n",
    "to_check = ['civic', 'root', 'bottle', 'racecar']\n",
    "palindrome_list = list(filter(lambda x: (x==str(x[::-1])), to_check))\n",
    "print(f\"Palindromes = {palindrome_list}\")\n",
    "print(f\"Not Palindromes = {set(to_check) - set(palindrome_list)}\")"
   ]
  },
  {
   "cell_type": "code",
   "execution_count": 14,
   "metadata": {
    "ExecuteTime": {
     "end_time": "2020-02-11T01:29:57.204146Z",
     "start_time": "2020-02-11T01:29:57.171938Z"
    }
   },
   "outputs": [
    {
     "name": "stdout",
     "output_type": "stream",
     "text": [
      "6\n"
     ]
    }
   ],
   "source": [
    "# list element closest to number\n",
    "k = 8\n",
    "nums = [-2, -1, 0, 1, 2, 6]\n",
    "closest = sorted(nums, key=lambda x: abs(x - k))[0]\n",
    "print(closest)"
   ]
  },
  {
   "cell_type": "code",
   "execution_count": 15,
   "metadata": {
    "ExecuteTime": {
     "end_time": "2020-02-11T01:29:57.271778Z",
     "start_time": "2020-02-11T01:29:57.207612Z"
    }
   },
   "outputs": [
    {
     "name": "stdout",
     "output_type": "stream",
     "text": [
      "['Canis', 'Panthera']\n"
     ]
    }
   ],
   "source": [
    "class Animal:\n",
    "    def __init__(self, name, genus):\n",
    "        self.name = name\n",
    "        self.genus = genus\n",
    "        \n",
    "a = Animal('Tiger', 'Panthera')\n",
    "b = Animal('Wolf', 'Canis')\n",
    "l = [a, b]\n",
    "l.sort(key=lambda x: x.genus)\n",
    "print([item.genus for item in l])"
   ]
  }
 ],
 "metadata": {
  "kernelspec": {
   "display_name": "Python 3",
   "language": "python",
   "name": "python3"
  },
  "language_info": {
   "codemirror_mode": {
    "name": "ipython",
    "version": 3
   },
   "file_extension": ".py",
   "mimetype": "text/x-python",
   "name": "python",
   "nbconvert_exporter": "python",
   "pygments_lexer": "ipython3",
   "version": "3.7.6"
  }
 },
 "nbformat": 4,
 "nbformat_minor": 2
}
