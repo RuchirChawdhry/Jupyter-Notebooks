{
 "cells": [
  {
   "cell_type": "code",
   "execution_count": 1,
   "metadata": {
    "ExecuteTime": {
     "end_time": "2019-10-31T13:27:53.919676Z",
     "start_time": "2019-10-31T13:27:53.717296Z"
    }
   },
   "outputs": [],
   "source": [
    "import requests\n",
    "from collections import Counter\n",
    "from itertools import chain"
   ]
  },
  {
   "cell_type": "code",
   "execution_count": 2,
   "metadata": {
    "ExecuteTime": {
     "end_time": "2019-10-31T13:27:53.941339Z",
     "start_time": "2019-10-31T13:27:53.922648Z"
    }
   },
   "outputs": [],
   "source": [
    "from boltons.urlutils import URL\n",
    "from boltons.urlutils import find_all_links"
   ]
  },
  {
   "cell_type": "code",
   "execution_count": 3,
   "metadata": {
    "ExecuteTime": {
     "end_time": "2019-10-31T13:27:53.963000Z",
     "start_time": "2019-10-31T13:27:53.946212Z"
    }
   },
   "outputs": [],
   "source": [
    "from boltons.strutils import camel2under\n",
    "from boltons.strutils import under2camel\n",
    "from boltons.strutils import slugify\n",
    "from boltons.strutils import split_punct_ws\n",
    "from boltons.strutils import ordinalize\n",
    "from boltons.strutils import cardinalize\n",
    "from boltons.strutils import pluralize\n",
    "from boltons.strutils import singularize\n",
    "from boltons.strutils import is_uuid\n",
    "from boltons.strutils import html2text\n",
    "from boltons.strutils import bytes2human\n",
    "from boltons.strutils import find_hashtags\n",
    "from boltons.strutils import gzip_bytes\n",
    "from boltons.strutils import gunzip_bytes"
   ]
  },
  {
   "cell_type": "code",
   "execution_count": 4,
   "metadata": {
    "ExecuteTime": {
     "end_time": "2019-10-31T13:27:53.973856Z",
     "start_time": "2019-10-31T13:27:53.966681Z"
    }
   },
   "outputs": [],
   "source": [
    "from boltons.statsutils import Stats\n",
    "from boltons.statsutils import describe"
   ]
  },
  {
   "cell_type": "markdown",
   "metadata": {},
   "source": [
    "## jsonutils: JSON"
   ]
  },
  {
   "cell_type": "code",
   "execution_count": null,
   "metadata": {},
   "outputs": [],
   "source": []
  },
  {
   "cell_type": "code",
   "execution_count": null,
   "metadata": {},
   "outputs": [],
   "source": []
  },
  {
   "cell_type": "markdown",
   "metadata": {},
   "source": [
    "## urlsutils: URL"
   ]
  },
  {
   "cell_type": "code",
   "execution_count": 5,
   "metadata": {
    "ExecuteTime": {
     "end_time": "2019-10-31T13:27:53.987686Z",
     "start_time": "2019-10-31T13:27:53.977996Z"
    }
   },
   "outputs": [],
   "source": [
    "# https://boltons.readthedocs.io/en/latest/urlutils.html"
   ]
  },
  {
   "cell_type": "code",
   "execution_count": 6,
   "metadata": {
    "ExecuteTime": {
     "end_time": "2019-10-31T13:27:54.000530Z",
     "start_time": "2019-10-31T13:27:53.989930Z"
    }
   },
   "outputs": [
    {
     "name": "stdout",
     "output_type": "stream",
     "text": [
      "www.amazon.in\n",
      "smartphones\n",
      "https\n",
      "/s\n"
     ]
    }
   ],
   "source": [
    "url = URL('https://www.amazon.in/s?k=smartphones&ref=nb_sb_noss_2')\n",
    "print(url.host)\n",
    "print(url.qp['k'])\n",
    "print(url.scheme)\n",
    "print(url.path)"
   ]
  },
  {
   "cell_type": "code",
   "execution_count": 7,
   "metadata": {
    "ExecuteTime": {
     "end_time": "2019-10-31T13:27:54.020559Z",
     "start_time": "2019-10-31T13:27:54.003009Z"
    }
   },
   "outputs": [
    {
     "name": "stdout",
     "output_type": "stream",
     "text": [
      "www.croma.com\n",
      "https\n",
      "/apple-iphone-11-pro-max-midnight-green-256-gb-4-gb-ram-/p/221136\n",
      "('', 'apple-iphone-11-pro-max-midnight-green-256-gb-4-gb-ram-', 'p', '221136')\n"
     ]
    }
   ],
   "source": [
    "url = URL('https://www.croma.com/apple-iphone-11-pro-max-midnight-green-256-gb-4-gb-ram-/p/221136')\n",
    "print(url.host)\n",
    "print(url.scheme)\n",
    "print(url.path)\n",
    "print(url.path_parts)"
   ]
  },
  {
   "cell_type": "code",
   "execution_count": 8,
   "metadata": {
    "ExecuteTime": {
     "end_time": "2019-10-31T13:27:54.043913Z",
     "start_time": "2019-10-31T13:27:54.025737Z"
    }
   },
   "outputs": [
    {
     "name": "stdout",
     "output_type": "stream",
     "text": [
      "www.naukri.com\n",
      "https\n",
      "/job-listings-Big-Data-Engineer-Newstar-corporation-Bengaluru-4-to-7-years-280619500530\n",
      "15725119141420\n",
      "seo_srp\n",
      "1\n",
      "1\n",
      "https://www.naukri.com/job-listings-Big-Data-Engineer-Newstar-corporation-Bengaluru-4-to-7-years-280619500530?src=seo_srp&sid=15725119141420&xp=1&px=1\n",
      "('', 'job-listings-Big-Data-Engineer-Newstar-corporation-Bengaluru-4-to-7-years-280619500530')\n",
      "['seo_srp', '15725119141420', '1', '1']\n"
     ]
    }
   ],
   "source": [
    "url = URL('https://www.naukri.com/job-listings-Big-Data-Engineer-Newstar-corporation-Bengaluru-4-to-7-years-280619500530?src=seo_srp&sid=15725119141420&xp=1&px=1')\n",
    "print(url.host)\n",
    "print(url.scheme)\n",
    "print(url.path)\n",
    "print(url.qp['sid'])\n",
    "print(url.qp['src'])\n",
    "print(url.qp['xp'])\n",
    "print(url.qp['px'])\n",
    "print(url.to_text())\n",
    "print(url.path_parts)\n",
    "print(url.qp.values())"
   ]
  },
  {
   "cell_type": "code",
   "execution_count": 9,
   "metadata": {
    "ExecuteTime": {
     "end_time": "2019-10-31T13:27:54.061128Z",
     "start_time": "2019-10-31T13:27:54.049507Z"
    }
   },
   "outputs": [],
   "source": [
    "sitemap = '''<url>\n",
    "<loc>\n",
    "https://www.naukri.com/office-of-the-district-education-officer-muzaffarpur-jobs-careers-4196292\n",
    "</loc>\n",
    "<priority>0.9</priority>\n",
    "<changefreq>weekly</changefreq>\n",
    "<lastmod>2019-10-15T04:00:03+05:30</lastmod>\n",
    "</url>\n",
    "<url>\n",
    "<loc>\n",
    "https://www.naukri.com/ambedkar-university-delhi-jobs-careers-763676\n",
    "</loc>\n",
    "<priority>0.9</priority>\n",
    "<changefreq>weekly</changefreq>\n",
    "<lastmod>2019-10-15T04:00:03+05:30</lastmod>\n",
    "</url>\n",
    "<url>\n",
    "<loc>\n",
    "https://www.naukri.com/indian-institute-of-technology-hyderabad-jobs-careers-768880\n",
    "</loc>\n",
    "<priority>0.9</priority>\n",
    "<changefreq>weekly</changefreq>\n",
    "<lastmod>2019-10-15T04:00:03+05:30</lastmod>\n",
    "</url>'''\n",
    "\n",
    "links = find_all_links(sitemap)\n",
    "links_with_text = find_all_links(sitemap, with_text=True)\n",
    "\n",
    "urls_path = [link.path for link in links]"
   ]
  },
  {
   "cell_type": "code",
   "execution_count": 10,
   "metadata": {
    "ExecuteTime": {
     "end_time": "2019-10-31T13:27:54.071825Z",
     "start_time": "2019-10-31T13:27:54.065144Z"
    }
   },
   "outputs": [
    {
     "name": "stdout",
     "output_type": "stream",
     "text": [
      "Links: \n",
      "\n",
      " [URL('https://www.naukri.com/office-of-the-district-education-officer-muzaffarpur-jobs-careers-4196292'), URL('https://www.naukri.com/ambedkar-university-delhi-jobs-careers-763676'), URL('https://www.naukri.com/indian-institute-of-technology-hyderabad-jobs-careers-768880')]\n"
     ]
    }
   ],
   "source": [
    "print('Links: \\n\\n', links)"
   ]
  },
  {
   "cell_type": "code",
   "execution_count": 11,
   "metadata": {
    "ExecuteTime": {
     "end_time": "2019-10-31T13:27:54.142300Z",
     "start_time": "2019-10-31T13:27:54.095481Z"
    }
   },
   "outputs": [
    {
     "name": "stdout",
     "output_type": "stream",
     "text": [
      "['/office-of-the-district-education-officer-muzaffarpur-jobs-careers-4196292', '/ambedkar-university-delhi-jobs-careers-763676', '/indian-institute-of-technology-hyderabad-jobs-careers-768880']\n"
     ]
    }
   ],
   "source": [
    "print(urls_path)"
   ]
  },
  {
   "cell_type": "markdown",
   "metadata": {
    "ExecuteTime": {
     "end_time": "2019-10-31T09:13:37.577429Z",
     "start_time": "2019-10-31T09:13:37.569985Z"
    }
   },
   "source": [
    "## strutils: Text"
   ]
  },
  {
   "cell_type": "code",
   "execution_count": 12,
   "metadata": {
    "ExecuteTime": {
     "end_time": "2019-10-31T13:27:54.151191Z",
     "start_time": "2019-10-31T13:27:54.144541Z"
    }
   },
   "outputs": [
    {
     "name": "stdout",
     "output_type": "stream",
     "text": [
      "camel_case\n"
     ]
    }
   ],
   "source": [
    "camel_to_under = camel2under('CamelCase')\n",
    "print(camel_to_under)"
   ]
  },
  {
   "cell_type": "code",
   "execution_count": 13,
   "metadata": {
    "ExecuteTime": {
     "end_time": "2019-10-31T13:27:54.160390Z",
     "start_time": "2019-10-31T13:27:54.153906Z"
    }
   },
   "outputs": [
    {
     "name": "stdout",
     "output_type": "stream",
     "text": [
      "NotCamelCase\n"
     ]
    }
   ],
   "source": [
    "under_to_camel = under2camel('not_camel_case')\n",
    "print(under_to_camel)"
   ]
  },
  {
   "cell_type": "code",
   "execution_count": 14,
   "metadata": {
    "ExecuteTime": {
     "end_time": "2019-10-31T13:27:54.168893Z",
     "start_time": "2019-10-31T13:27:54.163131Z"
    }
   },
   "outputs": [
    {
     "name": "stdout",
     "output_type": "stream",
     "text": [
      "this_is_a_blog_post\n"
     ]
    }
   ],
   "source": [
    "slug = slugify('This is a blog post')\n",
    "print(slug)"
   ]
  },
  {
   "cell_type": "code",
   "execution_count": 15,
   "metadata": {
    "ExecuteTime": {
     "end_time": "2019-10-31T13:27:54.184424Z",
     "start_time": "2019-10-31T13:27:54.171718Z"
    }
   },
   "outputs": [
    {
     "name": "stdout",
     "output_type": "stream",
     "text": [
      "this-is-my-first-post\n"
     ]
    }
   ],
   "source": [
    "slug = slugify(\"this is my first post\", delim='-')\n",
    "print(slug)"
   ]
  },
  {
   "cell_type": "code",
   "execution_count": 16,
   "metadata": {
    "ExecuteTime": {
     "end_time": "2019-10-31T13:27:54.200805Z",
     "start_time": "2019-10-31T13:27:54.187946Z"
    }
   },
   "outputs": [
    {
     "name": "stdout",
     "output_type": "stream",
     "text": [
      "['job', 'listings', 'Big', 'Data', 'Engineer', 'Newstar', 'corporation', 'Bengaluru', '4', 'to', '7', 'years', '280619500530']\n"
     ]
    }
   ],
   "source": [
    "to_split = split_punct_ws(\n",
    "    'job-listings-Big-Data-Engineer-Newstar-corporation-Bengaluru-4-to-7-years-280619500530'\n",
    ")\n",
    "print(to_split)\n",
    "\n",
    "# split_punct_ws can be useful in webscraping to extract data easily from the URL\n",
    "# sometimes, this allows you to avoid hitting the page as the URL itself can contain the info desired\n",
    "# note: this splits on punctuation and whitespace"
   ]
  },
  {
   "cell_type": "code",
   "execution_count": 17,
   "metadata": {
    "ExecuteTime": {
     "end_time": "2019-10-31T13:27:54.221907Z",
     "start_time": "2019-10-31T13:27:54.203342Z"
    }
   },
   "outputs": [
    {
     "data": {
      "text/plain": [
       "'1st'"
      ]
     },
     "execution_count": 17,
     "metadata": {},
     "output_type": "execute_result"
    }
   ],
   "source": [
    "ordinalize(1)"
   ]
  },
  {
   "cell_type": "code",
   "execution_count": 18,
   "metadata": {
    "ExecuteTime": {
     "end_time": "2019-10-31T13:27:54.237601Z",
     "start_time": "2019-10-31T13:27:54.230845Z"
    }
   },
   "outputs": [
    {
     "name": "stdout",
     "output_type": "stream",
     "text": [
      "['1st', '2nd', '22nd', '100th', '3rd', '44th', '72nd', '1000th']\n"
     ]
    }
   ],
   "source": [
    "num_list = [1, 2, 22, 100, 3, 44, 72, 1000]\n",
    "ordinalized = [ordinalize(num) for num in num_list]\n",
    "print(ordinalized)"
   ]
  },
  {
   "cell_type": "code",
   "execution_count": 19,
   "metadata": {
    "ExecuteTime": {
     "end_time": "2019-10-31T13:27:54.249676Z",
     "start_time": "2019-10-31T13:27:54.240129Z"
    }
   },
   "outputs": [
    {
     "data": {
      "text/plain": [
       "'vowels'"
      ]
     },
     "execution_count": 19,
     "metadata": {},
     "output_type": "execute_result"
    }
   ],
   "source": [
    "v = 'aeiou'\n",
    "cardinalize('vowel', len(v))"
   ]
  },
  {
   "cell_type": "code",
   "execution_count": 20,
   "metadata": {
    "ExecuteTime": {
     "end_time": "2019-10-31T13:27:54.268477Z",
     "start_time": "2019-10-31T13:27:54.257646Z"
    }
   },
   "outputs": [
    {
     "data": {
      "text/plain": [
       "'vowel'"
      ]
     },
     "execution_count": 20,
     "metadata": {},
     "output_type": "execute_result"
    }
   ],
   "source": [
    "v = 'a'\n",
    "cardinalize('vowel', len(v))"
   ]
  },
  {
   "cell_type": "code",
   "execution_count": 21,
   "metadata": {
    "ExecuteTime": {
     "end_time": "2019-10-31T13:27:54.300481Z",
     "start_time": "2019-10-31T13:27:54.290252Z"
    }
   },
   "outputs": [
    {
     "data": {
      "text/plain": [
       "'fungi'"
      ]
     },
     "execution_count": 21,
     "metadata": {},
     "output_type": "execute_result"
    }
   ],
   "source": [
    "f = ('Amanita argentea', 'Calyptella campanula', 'Entoloma chalybaeum')\n",
    "cardinalize('fungus', Counter(v))"
   ]
  },
  {
   "cell_type": "code",
   "execution_count": 22,
   "metadata": {
    "ExecuteTime": {
     "end_time": "2019-10-31T13:27:54.311084Z",
     "start_time": "2019-10-31T13:27:54.303087Z"
    }
   },
   "outputs": [
    {
     "name": "stdout",
     "output_type": "stream",
     "text": [
      "mice\n",
      "students\n",
      "Numbers\n"
     ]
    }
   ],
   "source": [
    "print(pluralize('mouse'))\n",
    "print(pluralize('student'))\n",
    "print(pluralize('Number'))\n",
    "\n",
    "# returns the plural of a word and preserves the case"
   ]
  },
  {
   "cell_type": "code",
   "execution_count": 23,
   "metadata": {
    "ExecuteTime": {
     "end_time": "2019-10-31T13:27:54.333597Z",
     "start_time": "2019-10-31T13:27:54.321556Z"
    }
   },
   "outputs": [
    {
     "name": "stdout",
     "output_type": "stream",
     "text": [
      "mouse\n",
      "fungus\n",
      "Floor\n"
     ]
    }
   ],
   "source": [
    "print(singularize('mice'))\n",
    "print(singularize('fungi'))\n",
    "print(singularize('Floors'))\n",
    "\n",
    "# returns the singular of a word and preserves the case"
   ]
  },
  {
   "cell_type": "code",
   "execution_count": 24,
   "metadata": {
    "ExecuteTime": {
     "end_time": "2019-10-31T13:27:54.354824Z",
     "start_time": "2019-10-31T13:27:54.336920Z"
    }
   },
   "outputs": [
    {
     "name": "stdout",
     "output_type": "stream",
     "text": [
      "True\n",
      "False\n",
      "True\n"
     ]
    }
   ],
   "source": [
    "to_check_1 = 'e682ccca-5a4c-4ef2-9711-73f9ad1e15ea'\n",
    "to_check_2 = '0221f0d9-d4b9-11e5-a478-10ddb1c2feb9'\n",
    "print(is_uuid(to_check_1))\n",
    "print(is_uuid(to_check_2))\n",
    "print(is_uuid(to_check_2, version=1))"
   ]
  },
  {
   "cell_type": "code",
   "execution_count": 25,
   "metadata": {
    "ExecuteTime": {
     "end_time": "2019-10-31T13:27:54.367287Z",
     "start_time": "2019-10-31T13:27:54.358169Z"
    }
   },
   "outputs": [
    {
     "name": "stdout",
     "output_type": "stream",
     "text": [
      "\n",
      "\n",
      "https://www.naukri.com/office-of-the-district-education-officer-muzaffarpur-jobs-careers-4196292\n",
      "\n",
      "0.9\n",
      "weekly\n",
      "2019-10-15T04:00:03+05:30\n",
      "\n",
      "\n",
      "\n",
      "https://www.naukri.com/ambedkar-university-delhi-jobs-careers-763676\n",
      "\n",
      "0.9\n",
      "weekly\n",
      "2019-10-15T04:00:03+05:30\n",
      "\n",
      "\n",
      "\n",
      "https://www.naukri.com/indian-institute-of-technology-hyderabad-jobs-careers-768880\n",
      "\n",
      "0.9\n",
      "weekly\n",
      "2019-10-15T04:00:03+05:30\n",
      "\n"
     ]
    }
   ],
   "source": [
    "sitemap = '''<url>\n",
    "<loc>\n",
    "https://www.naukri.com/office-of-the-district-education-officer-muzaffarpur-jobs-careers-4196292\n",
    "</loc>\n",
    "<priority>0.9</priority>\n",
    "<changefreq>weekly</changefreq>\n",
    "<lastmod>2019-10-15T04:00:03+05:30</lastmod>\n",
    "</url>\n",
    "<url>\n",
    "<loc>\n",
    "https://www.naukri.com/ambedkar-university-delhi-jobs-careers-763676\n",
    "</loc>\n",
    "<priority>0.9</priority>\n",
    "<changefreq>weekly</changefreq>\n",
    "<lastmod>2019-10-15T04:00:03+05:30</lastmod>\n",
    "</url>\n",
    "<url>\n",
    "<loc>\n",
    "https://www.naukri.com/indian-institute-of-technology-hyderabad-jobs-careers-768880\n",
    "</loc>\n",
    "<priority>0.9</priority>\n",
    "<changefreq>weekly</changefreq>\n",
    "<lastmod>2019-10-15T04:00:03+05:30</lastmod>\n",
    "</url>'''\n",
    "\n",
    "print(html2text(sitemap))\n",
    "\n",
    "# the above is not html but this obviously works on xml as well"
   ]
  },
  {
   "cell_type": "code",
   "execution_count": 26,
   "metadata": {
    "ExecuteTime": {
     "end_time": "2019-10-31T13:27:54.387769Z",
     "start_time": "2019-10-31T13:27:54.369397Z"
    }
   },
   "outputs": [
    {
     "name": "stdout",
     "output_type": "stream",
     "text": [
      "9.31G\n",
      "98.85K\n"
     ]
    }
   ],
   "source": [
    "bytes_1 = 10000001221\n",
    "bytes_2 = 101221\n",
    "\n",
    "print(bytes2human(bytes_1, 2))\n",
    "print(bytes2human(bytes_2, 2))"
   ]
  },
  {
   "cell_type": "code",
   "execution_count": 27,
   "metadata": {
    "ExecuteTime": {
     "end_time": "2019-10-31T13:27:54.399259Z",
     "start_time": "2019-10-31T13:27:54.390819Z"
    }
   },
   "outputs": [
    {
     "name": "stdout",
     "output_type": "stream",
     "text": [
      "['python', 'github']\n"
     ]
    }
   ],
   "source": [
    "sample_text = 'A hashtag looks something like this:  #python or #github.'\n",
    "\n",
    "print(find_hashtags(sample_text))"
   ]
  },
  {
   "cell_type": "code",
   "execution_count": 28,
   "metadata": {
    "ExecuteTime": {
     "end_time": "2019-10-31T13:27:54.896018Z",
     "start_time": "2019-10-31T13:27:54.401582Z"
    }
   },
   "outputs": [
    {
     "name": "stdout",
     "output_type": "stream",
     "text": [
      "75787\n",
      "19275\n"
     ]
    }
   ],
   "source": [
    "response = requests.get('https://en.wikipedia.org/wiki/The_Wreck_of_the_Titan:_Or,_Futility').content\n",
    "r_gzipped = gzip_bytes(bytes(response), level=9) # level 9 is highest, 1 is lowest\n",
    "\n",
    "print(len(response))\n",
    "print(len(r_gzipped))"
   ]
  },
  {
   "cell_type": "markdown",
   "metadata": {},
   "source": [
    "## statsutils - Statistics Basics"
   ]
  },
  {
   "cell_type": "code",
   "execution_count": 29,
   "metadata": {
    "ExecuteTime": {
     "end_time": "2019-10-31T13:27:54.907685Z",
     "start_time": "2019-10-31T13:27:54.898071Z"
    }
   },
   "outputs": [
    {
     "name": "stdout",
     "output_type": "stream",
     "text": [
      "153.41666666666666\n",
      "0\n",
      "983\n",
      "107405.90972222223\n",
      "7.0\n",
      "12\n",
      "327.7284084760158\n",
      "{'count': 12, 'mean': 153.41666666666666, 'std_dev': 327.7284084760158, 'mad': 6.0, 'min': 0, '0.25': 3.25, '0.5': 7.0, '0.75': 22.5, 'max': 983}\n"
     ]
    }
   ],
   "source": [
    "num_list = [22, 1, 983, 1, 0, 24, 6, 7, 9, 4, 7, 777]\n",
    "stats = Stats(num_list)\n",
    "\n",
    "print(stats.mean)\n",
    "print(stats.min)\n",
    "print(stats.max)\n",
    "print(stats.variance)\n",
    "print(stats.median)\n",
    "print(stats.count)\n",
    "print(stats.std_dev)\n",
    "print(stats.describe())"
   ]
  },
  {
   "cell_type": "code",
   "execution_count": 30,
   "metadata": {
    "ExecuteTime": {
     "end_time": "2019-10-31T13:27:54.920227Z",
     "start_time": "2019-10-31T13:27:54.911502Z"
    }
   },
   "outputs": [
    {
     "name": "stdout",
     "output_type": "stream",
     "text": [
      "  0.0: 8 ######################################################################\n",
      " 16.8: 2 ##################\n",
      " 33.6: 0 |\n",
      " 50.4: 0 |\n",
      " 67.2: 0 |\n",
      " 84.0: 0 |\n",
      "100.8: 0 |\n",
      "117.7: 0 |\n",
      "134.5: 0 |\n",
      "151.3: 0 |\n",
      "168.1: 0 |\n",
      "184.9: 0 |\n",
      "201.7: 0 |\n",
      "218.6: 0 |\n",
      "235.4: 0 |\n",
      "252.2: 0 |\n",
      "269.0: 0 |\n",
      "285.8: 0 |\n",
      "302.6: 0 |\n",
      "319.5: 0 |\n",
      "336.3: 0 |\n",
      "353.1: 0 |\n",
      "369.9: 0 |\n",
      "386.7: 0 |\n",
      "403.5: 0 |\n",
      "420.4: 0 |\n",
      "437.2: 0 |\n",
      "454.0: 0 |\n",
      "470.8: 0 |\n",
      "487.6: 0 |\n",
      "504.4: 0 |\n",
      "521.3: 0 |\n",
      "538.1: 0 |\n",
      "554.9: 0 |\n",
      "571.7: 0 |\n",
      "588.5: 0 |\n",
      "605.3: 0 |\n",
      "622.2: 0 |\n",
      "639.0: 0 |\n",
      "655.8: 0 |\n",
      "672.6: 0 |\n",
      "689.4: 0 |\n",
      "706.2: 0 |\n",
      "723.1: 0 |\n",
      "739.9: 0 |\n",
      "756.7: 0 |\n",
      "773.5: 1 #########\n",
      "790.3: 0 |\n",
      "807.1: 0 |\n",
      "824.0: 0 |\n",
      "840.8: 0 |\n",
      "857.6: 0 |\n",
      "874.4: 0 |\n",
      "891.2: 0 |\n",
      "908.0: 0 |\n",
      "924.9: 0 |\n",
      "941.7: 0 |\n",
      "958.5: 0 |\n",
      "975.3: 1 #########\n"
     ]
    }
   ],
   "source": [
    "print(stats.format_histogram())"
   ]
  },
  {
   "cell_type": "code",
   "execution_count": 31,
   "metadata": {
    "ExecuteTime": {
     "end_time": "2019-10-31T13:27:54.937324Z",
     "start_time": "2019-10-31T13:27:54.929177Z"
    }
   },
   "outputs": [
    {
     "name": "stdout",
     "output_type": "stream",
     "text": [
      "6.0\n",
      "9.9375\n",
      "4.95977332986754\n",
      "2.0207968699585535\n",
      "6.0\n"
     ]
    }
   ],
   "source": [
    "print(stats.median_abs_dev) # median absolute deviation\n",
    "print(stats.trimean)\n",
    "print(stats.kurtosis)\n",
    "print(stats.skewness)\n",
    "print(stats.mad)"
   ]
  },
  {
   "cell_type": "code",
   "execution_count": 32,
   "metadata": {
    "ExecuteTime": {
     "end_time": "2019-10-31T13:27:54.961883Z",
     "start_time": "2019-10-31T13:27:54.940038Z"
    }
   },
   "outputs": [
    {
     "name": "stdout",
     "output_type": "stream",
     "text": [
      "19.25\n",
      "23.6\n",
      "-0.30029946785607725\n",
      "2.1361982084259585\n",
      "1\n"
     ]
    }
   ],
   "source": [
    "print(stats.iqr) # interquartile range\n",
    "print(stats.get_quantile(0.8))\n",
    "print(stats.get_zscore(55))\n",
    "print(stats.rel_std_dev) # relative standard deviate\n",
    "print(stats.pearson_type)"
   ]
  },
  {
   "cell_type": "code",
   "execution_count": 33,
   "metadata": {
    "ExecuteTime": {
     "end_time": "2019-10-31T13:27:54.983128Z",
     "start_time": "2019-10-31T13:27:54.966776Z"
    }
   },
   "outputs": [
    {
     "data": {
      "text/plain": [
       "[(0.0, 8),\n",
       " (16.8, 2),\n",
       " (33.6, 0),\n",
       " (50.4, 0),\n",
       " (67.2, 0),\n",
       " (84.0, 0),\n",
       " (100.8, 0),\n",
       " (117.7, 0),\n",
       " (134.5, 0),\n",
       " (151.3, 0),\n",
       " (168.1, 0),\n",
       " (184.9, 0),\n",
       " (201.7, 0),\n",
       " (218.6, 0),\n",
       " (235.4, 0),\n",
       " (252.2, 0),\n",
       " (269.0, 0),\n",
       " (285.8, 0),\n",
       " (302.6, 0),\n",
       " (319.5, 0),\n",
       " (336.3, 0),\n",
       " (353.1, 0),\n",
       " (369.9, 0),\n",
       " (386.7, 0),\n",
       " (403.5, 0),\n",
       " (420.4, 0),\n",
       " (437.2, 0),\n",
       " (454.0, 0),\n",
       " (470.8, 0),\n",
       " (487.6, 0),\n",
       " (504.4, 0),\n",
       " (521.3, 0),\n",
       " (538.1, 0),\n",
       " (554.9, 0),\n",
       " (571.7, 0),\n",
       " (588.5, 0),\n",
       " (605.3, 0),\n",
       " (622.2, 0),\n",
       " (639.0, 0),\n",
       " (655.8, 0),\n",
       " (672.6, 0),\n",
       " (689.4, 0),\n",
       " (706.2, 0),\n",
       " (723.1, 0),\n",
       " (739.9, 0),\n",
       " (756.7, 0),\n",
       " (773.5, 1),\n",
       " (790.3, 0),\n",
       " (807.1, 0),\n",
       " (824.0, 0),\n",
       " (840.8, 0),\n",
       " (857.6, 0),\n",
       " (874.4, 0),\n",
       " (891.2, 0),\n",
       " (908.0, 0),\n",
       " (924.9, 0),\n",
       " (941.7, 0),\n",
       " (958.5, 0),\n",
       " (975.3, 1)]"
      ]
     },
     "execution_count": 33,
     "metadata": {},
     "output_type": "execute_result"
    }
   ],
   "source": [
    "stats.get_histogram_counts()"
   ]
  },
  {
   "cell_type": "code",
   "execution_count": 34,
   "metadata": {
    "ExecuteTime": {
     "end_time": "2019-10-31T13:27:54.999590Z",
     "start_time": "2019-10-31T13:27:54.985766Z"
    }
   },
   "outputs": [
    {
     "data": {
      "text/plain": [
       "{'count': 12,\n",
       " 'mean': 153.41666666666666,\n",
       " 'std_dev': 327.7284084760158,\n",
       " 'mad': 6.0,\n",
       " 'min': 0,\n",
       " '0.25': 3.25,\n",
       " '0.5': 7.0,\n",
       " '0.75': 22.5,\n",
       " 'max': 983}"
      ]
     },
     "execution_count": 34,
     "metadata": {},
     "output_type": "execute_result"
    }
   ],
   "source": [
    "describe(num_list)"
   ]
  },
  {
   "cell_type": "markdown",
   "metadata": {},
   "source": [
    "## tableutils"
   ]
  },
  {
   "cell_type": "code",
   "execution_count": 35,
   "metadata": {
    "ExecuteTime": {
     "end_time": "2019-10-31T13:27:55.007585Z",
     "start_time": "2019-10-31T13:27:55.002250Z"
    }
   },
   "outputs": [],
   "source": [
    "# https://boltons.readthedocs.io/en/latest/tableutils.html"
   ]
  },
  {
   "cell_type": "markdown",
   "metadata": {},
   "source": [
    "## fileutils"
   ]
  },
  {
   "cell_type": "code",
   "execution_count": 36,
   "metadata": {
    "ExecuteTime": {
     "end_time": "2019-10-31T13:27:55.033842Z",
     "start_time": "2019-10-31T13:27:55.020171Z"
    }
   },
   "outputs": [],
   "source": [
    "# https://boltons.readthedocs.io/en/latest/fileutils.html"
   ]
  },
  {
   "cell_type": "markdown",
   "metadata": {},
   "source": [
    "## ecoutils"
   ]
  },
  {
   "cell_type": "code",
   "execution_count": 37,
   "metadata": {
    "ExecuteTime": {
     "end_time": "2019-10-31T13:27:55.046376Z",
     "start_time": "2019-10-31T13:27:55.035912Z"
    }
   },
   "outputs": [],
   "source": [
    "# https://boltons.readthedocs.io/en/latest/ecoutils.html"
   ]
  },
  {
   "cell_type": "markdown",
   "metadata": {},
   "source": [
    "## ioutils"
   ]
  },
  {
   "cell_type": "code",
   "execution_count": 38,
   "metadata": {
    "ExecuteTime": {
     "end_time": "2019-10-31T13:27:55.054434Z",
     "start_time": "2019-10-31T13:27:55.049605Z"
    }
   },
   "outputs": [],
   "source": [
    "# https://boltons.readthedocs.io/en/latest/_modules/boltons/ioutils.html#MultiFileReader"
   ]
  },
  {
   "cell_type": "markdown",
   "metadata": {},
   "source": [
    "## setutils"
   ]
  },
  {
   "cell_type": "code",
   "execution_count": 39,
   "metadata": {
    "ExecuteTime": {
     "end_time": "2019-10-31T13:27:55.080743Z",
     "start_time": "2019-10-31T13:27:55.057358Z"
    }
   },
   "outputs": [],
   "source": [
    "# https://boltons.readthedocs.io/en/latest/setutils.html"
   ]
  },
  {
   "cell_type": "markdown",
   "metadata": {},
   "source": [
    "## iterutils"
   ]
  },
  {
   "cell_type": "code",
   "execution_count": 40,
   "metadata": {
    "ExecuteTime": {
     "end_time": "2019-10-31T13:27:55.150772Z",
     "start_time": "2019-10-31T13:27:55.140383Z"
    }
   },
   "outputs": [],
   "source": [
    "# https://boltons.readthedocs.io/en/latest/iterutils.html"
   ]
  }
 ],
 "metadata": {
  "kernelspec": {
   "display_name": "Python 3",
   "language": "python",
   "name": "python3"
  },
  "language_info": {
   "codemirror_mode": {
    "name": "ipython",
    "version": 3
   },
   "file_extension": ".py",
   "mimetype": "text/x-python",
   "name": "python",
   "nbconvert_exporter": "python",
   "pygments_lexer": "ipython3",
   "version": "3.7.3"
  }
 },
 "nbformat": 4,
 "nbformat_minor": 2
}
