{
 "cells": [
  {
   "cell_type": "markdown",
   "metadata": {},
   "source": [
    "Notebook by Ruchir Chawdhry<br>\n",
    "Released under MIT License<br>\n",
    "GitHub: [github.com/RuchirChawdhry/Jupyter-Notebooks](https://github.com/RuchirChawdhry/Jupyter-Notebooks)<br>\n",
    "LinkedIn: [linkedin.com/in/RuchirChawdhry](https://linkedin.com/in/RuchirChawdhry)<br>\n",
    "Website: [ruchirchawdhry.com](https://ruchirchawdhry.com)<br>\n",
    "\n",
    "---"
   ]
  },
  {
   "cell_type": "markdown",
   "metadata": {},
   "source": [
    "# OpenWeatherMap API"
   ]
  },
  {
   "cell_type": "code",
   "execution_count": 1,
   "metadata": {
    "ExecuteTime": {
     "end_time": "2019-11-01T07:24:20.843393Z",
     "start_time": "2019-11-01T07:24:20.609549Z"
    }
   },
   "outputs": [],
   "source": [
    "import requests"
   ]
  },
  {
   "cell_type": "code",
   "execution_count": 2,
   "metadata": {
    "ExecuteTime": {
     "end_time": "2019-11-01T07:24:21.033181Z",
     "start_time": "2019-11-01T07:24:20.846409Z"
    }
   },
   "outputs": [],
   "source": [
    "key = 'REMOVED'\n",
    "r = requests.get(\n",
    "    'http://api.openweathermap.org/data/2.5/weather?q=New Delhi&appid='+key+'&units=metric'\n",
    ").json()"
   ]
  },
  {
   "cell_type": "code",
   "execution_count": 3,
   "metadata": {
    "ExecuteTime": {
     "end_time": "2019-11-01T07:24:21.051932Z",
     "start_time": "2019-11-01T07:24:21.039693Z"
    }
   },
   "outputs": [
    {
     "data": {
      "text/plain": [
       "{'coord': {'lon': 77.2, 'lat': 28.61},\n",
       " 'weather': [{'id': 711,\n",
       "   'main': 'Smoke',\n",
       "   'description': 'smoke',\n",
       "   'icon': '50d'}],\n",
       " 'base': 'stations',\n",
       " 'main': {'temp': 28.94,\n",
       "  'pressure': 1012,\n",
       "  'humidity': 48,\n",
       "  'temp_min': 27.22,\n",
       "  'temp_max': 30},\n",
       " 'visibility': 800,\n",
       " 'wind': {'speed': 1},\n",
       " 'clouds': {'all': 0},\n",
       " 'dt': 1572592661,\n",
       " 'sys': {'type': 1,\n",
       "  'id': 9161,\n",
       "  'country': 'IN',\n",
       "  'sunrise': 1572570161,\n",
       "  'sunset': 1572610007},\n",
       " 'timezone': 19800,\n",
       " 'id': 1261481,\n",
       " 'name': 'New Delhi',\n",
       " 'cod': 200}"
      ]
     },
     "metadata": {},
     "output_type": "display_data"
    }
   ],
   "source": [
    "display(r)"
   ]
  },
  {
   "cell_type": "code",
   "execution_count": 4,
   "metadata": {
    "ExecuteTime": {
     "end_time": "2019-11-01T07:24:21.065414Z",
     "start_time": "2019-11-01T07:24:21.054831Z"
    }
   },
   "outputs": [],
   "source": [
    "latitude, longitude = r['coord'].values()\n",
    "w_id, main, description, icon = r['weather'][0].values()\n",
    "temp_current, pressure, humidity, t_min, t_max = r['main'].values()\n",
    "type_, sys_id, country, sunrise, sunset = r['sys'].values()\n",
    "status = r['cod']\n",
    "timezone = r['timezone']\n",
    "city_id = r['id']\n",
    "city_name = r['name']"
   ]
  },
  {
   "cell_type": "code",
   "execution_count": 5,
   "metadata": {
    "ExecuteTime": {
     "end_time": "2019-11-01T07:24:21.079191Z",
     "start_time": "2019-11-01T07:24:21.067243Z"
    }
   },
   "outputs": [
    {
     "data": {
      "text/plain": [
       "77.2"
      ]
     },
     "execution_count": 5,
     "metadata": {},
     "output_type": "execute_result"
    }
   ],
   "source": [
    "latitude"
   ]
  },
  {
   "cell_type": "code",
   "execution_count": 6,
   "metadata": {
    "ExecuteTime": {
     "end_time": "2019-11-01T07:24:21.094169Z",
     "start_time": "2019-11-01T07:24:21.081149Z"
    }
   },
   "outputs": [
    {
     "data": {
      "text/plain": [
       "28.61"
      ]
     },
     "execution_count": 6,
     "metadata": {},
     "output_type": "execute_result"
    }
   ],
   "source": [
    "longitude"
   ]
  },
  {
   "cell_type": "code",
   "execution_count": 7,
   "metadata": {
    "ExecuteTime": {
     "end_time": "2019-11-01T07:24:21.108454Z",
     "start_time": "2019-11-01T07:24:21.096360Z"
    }
   },
   "outputs": [
    {
     "data": {
      "text/plain": [
       "711"
      ]
     },
     "execution_count": 7,
     "metadata": {},
     "output_type": "execute_result"
    }
   ],
   "source": [
    "w_id"
   ]
  },
  {
   "cell_type": "code",
   "execution_count": 8,
   "metadata": {
    "ExecuteTime": {
     "end_time": "2019-11-01T07:24:21.127502Z",
     "start_time": "2019-11-01T07:24:21.122637Z"
    }
   },
   "outputs": [
    {
     "data": {
      "text/plain": [
       "'Smoke'"
      ]
     },
     "execution_count": 8,
     "metadata": {},
     "output_type": "execute_result"
    }
   ],
   "source": [
    "main"
   ]
  },
  {
   "cell_type": "code",
   "execution_count": 9,
   "metadata": {
    "ExecuteTime": {
     "end_time": "2019-11-01T07:24:21.140263Z",
     "start_time": "2019-11-01T07:24:21.130645Z"
    }
   },
   "outputs": [
    {
     "data": {
      "text/plain": [
       "'smoke'"
      ]
     },
     "execution_count": 9,
     "metadata": {},
     "output_type": "execute_result"
    }
   ],
   "source": [
    "description"
   ]
  },
  {
   "cell_type": "code",
   "execution_count": 10,
   "metadata": {
    "ExecuteTime": {
     "end_time": "2019-11-01T07:24:21.157445Z",
     "start_time": "2019-11-01T07:24:21.142674Z"
    }
   },
   "outputs": [
    {
     "data": {
      "text/plain": [
       "'50d'"
      ]
     },
     "execution_count": 10,
     "metadata": {},
     "output_type": "execute_result"
    }
   ],
   "source": [
    "icon"
   ]
  },
  {
   "cell_type": "code",
   "execution_count": 11,
   "metadata": {
    "ExecuteTime": {
     "end_time": "2019-11-01T07:24:21.177822Z",
     "start_time": "2019-11-01T07:24:21.159856Z"
    }
   },
   "outputs": [
    {
     "data": {
      "text/plain": [
       "28.94"
      ]
     },
     "execution_count": 11,
     "metadata": {},
     "output_type": "execute_result"
    }
   ],
   "source": [
    "temp_current"
   ]
  },
  {
   "cell_type": "code",
   "execution_count": 12,
   "metadata": {
    "ExecuteTime": {
     "end_time": "2019-11-01T07:24:21.204290Z",
     "start_time": "2019-11-01T07:24:21.179678Z"
    }
   },
   "outputs": [
    {
     "data": {
      "text/plain": [
       "1012"
      ]
     },
     "execution_count": 12,
     "metadata": {},
     "output_type": "execute_result"
    }
   ],
   "source": [
    "pressure"
   ]
  },
  {
   "cell_type": "code",
   "execution_count": 13,
   "metadata": {
    "ExecuteTime": {
     "end_time": "2019-11-01T07:24:21.227015Z",
     "start_time": "2019-11-01T07:24:21.209944Z"
    }
   },
   "outputs": [
    {
     "data": {
      "text/plain": [
       "48"
      ]
     },
     "execution_count": 13,
     "metadata": {},
     "output_type": "execute_result"
    }
   ],
   "source": [
    "humidity"
   ]
  },
  {
   "cell_type": "code",
   "execution_count": 14,
   "metadata": {
    "ExecuteTime": {
     "end_time": "2019-11-01T07:24:21.243510Z",
     "start_time": "2019-11-01T07:24:21.229288Z"
    }
   },
   "outputs": [
    {
     "data": {
      "text/plain": [
       "27.22"
      ]
     },
     "execution_count": 14,
     "metadata": {},
     "output_type": "execute_result"
    }
   ],
   "source": [
    "t_min"
   ]
  },
  {
   "cell_type": "code",
   "execution_count": 15,
   "metadata": {
    "ExecuteTime": {
     "end_time": "2019-11-01T07:24:21.252236Z",
     "start_time": "2019-11-01T07:24:21.245556Z"
    }
   },
   "outputs": [
    {
     "data": {
      "text/plain": [
       "30"
      ]
     },
     "execution_count": 15,
     "metadata": {},
     "output_type": "execute_result"
    }
   ],
   "source": [
    "t_max"
   ]
  },
  {
   "cell_type": "code",
   "execution_count": 16,
   "metadata": {
    "ExecuteTime": {
     "end_time": "2019-11-01T07:24:21.278993Z",
     "start_time": "2019-11-01T07:24:21.258371Z"
    }
   },
   "outputs": [
    {
     "data": {
      "text/plain": [
       "1"
      ]
     },
     "execution_count": 16,
     "metadata": {},
     "output_type": "execute_result"
    }
   ],
   "source": [
    "type_"
   ]
  },
  {
   "cell_type": "code",
   "execution_count": 17,
   "metadata": {
    "ExecuteTime": {
     "end_time": "2019-11-01T07:24:21.300917Z",
     "start_time": "2019-11-01T07:24:21.281085Z"
    }
   },
   "outputs": [
    {
     "data": {
      "text/plain": [
       "9161"
      ]
     },
     "execution_count": 17,
     "metadata": {},
     "output_type": "execute_result"
    }
   ],
   "source": [
    "sys_id"
   ]
  },
  {
   "cell_type": "code",
   "execution_count": 18,
   "metadata": {
    "ExecuteTime": {
     "end_time": "2019-11-01T07:24:21.313434Z",
     "start_time": "2019-11-01T07:24:21.306450Z"
    }
   },
   "outputs": [
    {
     "data": {
      "text/plain": [
       "'IN'"
      ]
     },
     "execution_count": 18,
     "metadata": {},
     "output_type": "execute_result"
    }
   ],
   "source": [
    "country"
   ]
  },
  {
   "cell_type": "code",
   "execution_count": 19,
   "metadata": {
    "ExecuteTime": {
     "end_time": "2019-11-01T07:24:21.325654Z",
     "start_time": "2019-11-01T07:24:21.315980Z"
    }
   },
   "outputs": [
    {
     "data": {
      "text/plain": [
       "1572570161"
      ]
     },
     "execution_count": 19,
     "metadata": {},
     "output_type": "execute_result"
    }
   ],
   "source": [
    "sunrise"
   ]
  },
  {
   "cell_type": "code",
   "execution_count": 20,
   "metadata": {
    "ExecuteTime": {
     "end_time": "2019-11-01T07:24:21.334884Z",
     "start_time": "2019-11-01T07:24:21.327791Z"
    }
   },
   "outputs": [
    {
     "data": {
      "text/plain": [
       "1572610007"
      ]
     },
     "execution_count": 20,
     "metadata": {},
     "output_type": "execute_result"
    }
   ],
   "source": [
    "sunset"
   ]
  },
  {
   "cell_type": "code",
   "execution_count": 21,
   "metadata": {
    "ExecuteTime": {
     "end_time": "2019-11-01T07:24:21.347071Z",
     "start_time": "2019-11-01T07:24:21.340813Z"
    }
   },
   "outputs": [
    {
     "data": {
      "text/plain": [
       "19800"
      ]
     },
     "execution_count": 21,
     "metadata": {},
     "output_type": "execute_result"
    }
   ],
   "source": [
    "timezone"
   ]
  },
  {
   "cell_type": "code",
   "execution_count": 22,
   "metadata": {
    "ExecuteTime": {
     "end_time": "2019-11-01T07:24:21.362242Z",
     "start_time": "2019-11-01T07:24:21.349823Z"
    }
   },
   "outputs": [
    {
     "data": {
      "text/plain": [
       "1261481"
      ]
     },
     "execution_count": 22,
     "metadata": {},
     "output_type": "execute_result"
    }
   ],
   "source": [
    "city_id"
   ]
  },
  {
   "cell_type": "code",
   "execution_count": 23,
   "metadata": {
    "ExecuteTime": {
     "end_time": "2019-11-01T07:24:21.381109Z",
     "start_time": "2019-11-01T07:24:21.367602Z"
    }
   },
   "outputs": [
    {
     "data": {
      "text/plain": [
       "'New Delhi'"
      ]
     },
     "execution_count": 23,
     "metadata": {},
     "output_type": "execute_result"
    }
   ],
   "source": [
    "city_name"
   ]
  },
  {
   "cell_type": "code",
   "execution_count": null,
   "metadata": {},
   "outputs": [],
   "source": []
  }
 ],
 "metadata": {
  "kernelspec": {
   "display_name": "Python 3",
   "language": "python",
   "name": "python3"
  },
  "language_info": {
   "codemirror_mode": {
    "name": "ipython",
    "version": 3
   },
   "file_extension": ".py",
   "mimetype": "text/x-python",
   "name": "python",
   "nbconvert_exporter": "python",
   "pygments_lexer": "ipython3",
   "version": "3.7.3"
  }
 },
 "nbformat": 4,
 "nbformat_minor": 2
}
