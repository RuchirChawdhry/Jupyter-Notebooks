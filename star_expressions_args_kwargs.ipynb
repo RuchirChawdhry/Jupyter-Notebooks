{
 "cells": [
  {
   "cell_type": "markdown",
   "metadata": {
    "nbpresent": {
     "id": "5bbf41d0-e5d1-46a5-87f5-0ec2415a9e0c"
    }
   },
   "source": [
    "Notebook by Ruchir Chawdhry<br>\n",
    "Released under MIT License<br>\n",
    "GitHub: [github.com/RuchirChawdhry/Jupyter-Notebooks](https://github.com/RuchirChawdhry/Jupyter-Notebooks)<br>\n",
    "LinkedIn: [linkedin.com/in/RuchirChawdhry](https://linkedin.com/in/RuchirChawdhry)<br>\n",
    "Website: [ruchirchawdhry.com](https://ruchirchawdhry.com)<br>\n",
    "\n",
    "---"
   ]
  },
  {
   "cell_type": "markdown",
   "metadata": {
    "nbpresent": {
     "id": "17896217-5d21-4314-beb2-d5dc5266e826"
    }
   },
   "source": [
    "# Star Expressions: \\*args and \\**kwargs"
   ]
  },
  {
   "cell_type": "markdown",
   "metadata": {
    "nbpresent": {
     "id": "9ce16c28-5f8e-4973-8f6d-0f9486e9d2c5"
    }
   },
   "source": [
    "## \\*args"
   ]
  },
  {
   "cell_type": "code",
   "execution_count": 1,
   "metadata": {
    "ExecuteTime": {
     "end_time": "2019-10-29T19:49:31.097590Z",
     "start_time": "2019-10-29T19:49:31.087720Z"
    },
    "nbpresent": {
     "id": "935736f3-b051-4e13-b972-961638c50f48"
    }
   },
   "outputs": [],
   "source": [
    "def func(a, b, *args):\n",
    "    print(a)\n",
    "    print(b)\n",
    "    print(args)"
   ]
  },
  {
   "cell_type": "code",
   "execution_count": 2,
   "metadata": {
    "ExecuteTime": {
     "end_time": "2019-10-29T19:49:31.110012Z",
     "start_time": "2019-10-29T19:49:31.101691Z"
    },
    "nbpresent": {
     "id": "9e3e9333-1f39-49e5-9a35-e1d671b49139"
    }
   },
   "outputs": [
    {
     "name": "stdout",
     "output_type": "stream",
     "text": [
      "10\n",
      "20\n",
      "(1, 2, 3)\n"
     ]
    }
   ],
   "source": [
    "func(10, 20, 1, 2, 3)"
   ]
  },
  {
   "cell_type": "code",
   "execution_count": 3,
   "metadata": {
    "ExecuteTime": {
     "end_time": "2019-10-29T19:49:31.127359Z",
     "start_time": "2019-10-29T19:49:31.113987Z"
    },
    "nbpresent": {
     "id": "b5cd80e3-84eb-4f27-8575-9690e3796b9e"
    }
   },
   "outputs": [],
   "source": [
    "def avg(*args):\n",
    "    count = len(args)\n",
    "    total = sum(args)\n",
    "    return count and total/count"
   ]
  },
  {
   "cell_type": "code",
   "execution_count": 4,
   "metadata": {
    "ExecuteTime": {
     "end_time": "2019-10-29T19:49:31.156175Z",
     "start_time": "2019-10-29T19:49:31.130831Z"
    },
    "nbpresent": {
     "id": "7e6ace01-e044-4e99-9fee-54fb5bb7e1c9"
    }
   },
   "outputs": [
    {
     "data": {
      "text/plain": [
       "3.0"
      ]
     },
     "execution_count": 4,
     "metadata": {},
     "output_type": "execute_result"
    }
   ],
   "source": [
    "avg(2, 2, 4, 4)"
   ]
  },
  {
   "cell_type": "code",
   "execution_count": 5,
   "metadata": {
    "ExecuteTime": {
     "end_time": "2019-10-29T19:49:31.166831Z",
     "start_time": "2019-10-29T19:49:31.159249Z"
    },
    "nbpresent": {
     "id": "ea547b89-29d0-4cf7-93cf-23c2c06d2cdb"
    }
   },
   "outputs": [
    {
     "data": {
      "text/plain": [
       "0.0"
      ]
     },
     "execution_count": 5,
     "metadata": {},
     "output_type": "execute_result"
    }
   ],
   "source": [
    "avg(0)"
   ]
  },
  {
   "cell_type": "code",
   "execution_count": 6,
   "metadata": {
    "ExecuteTime": {
     "end_time": "2019-10-29T19:49:31.185954Z",
     "start_time": "2019-10-29T19:49:31.174339Z"
    },
    "nbpresent": {
     "id": "ce2e403e-5e80-49c1-9865-fbfe3369dedf"
    }
   },
   "outputs": [
    {
     "name": "stdout",
     "output_type": "stream",
     "text": [
      "City:  Montreal\n",
      "Province:  Quebec\n",
      "Country Canada\n"
     ]
    }
   ],
   "source": [
    "def func1(city, province, country):\n",
    "    print('City: ', city)\n",
    "    print('Province: ', province)\n",
    "    print('Country', country)\n",
    "\n",
    "data = ['Montreal', 'Quebec', 'Canada']\n",
    "func1(*data)"
   ]
  },
  {
   "cell_type": "code",
   "execution_count": 7,
   "metadata": {
    "ExecuteTime": {
     "end_time": "2019-10-29T19:49:31.196858Z",
     "start_time": "2019-10-29T19:49:31.189098Z"
    },
    "nbpresent": {
     "id": "b593511a-2d79-4655-8b59-a0f89618e8ab"
    }
   },
   "outputs": [
    {
     "name": "stdout",
     "output_type": "stream",
     "text": [
      "City:  Montreal\n",
      "Province:  Quebec\n",
      "Country:  Canada\n"
     ]
    }
   ],
   "source": [
    "def func2(*args):\n",
    "    city, province, country = args\n",
    "    print('City: ', city)\n",
    "    print('Province: ', province)\n",
    "    print('Country: ', country)\n",
    "\n",
    "func2('Montreal', 'Quebec', 'Canada')"
   ]
  },
  {
   "cell_type": "code",
   "execution_count": 8,
   "metadata": {
    "ExecuteTime": {
     "end_time": "2019-10-29T19:49:31.212332Z",
     "start_time": "2019-10-29T19:49:31.200898Z"
    }
   },
   "outputs": [
    {
     "data": {
      "text/plain": [
       "'/Users/ruchir/Projects/Jupyter_Notebooks/my_notebooks/notebook_one.md'"
      ]
     },
     "execution_count": 8,
     "metadata": {},
     "output_type": "execute_result"
    }
   ],
   "source": [
    "import os\n",
    "\n",
    "def func3(*args):\n",
    "    folder, file = args\n",
    "    dir_name = os.getcwd()\n",
    "    full_path = os.path.join(dir_name, folder, file)\n",
    "    return full_path\n",
    "\n",
    "folder = 'my_notebooks'\n",
    "file = 'notebook_one.md'\n",
    "func3(folder, file)\n"
   ]
  },
  {
   "cell_type": "code",
   "execution_count": 9,
   "metadata": {
    "ExecuteTime": {
     "end_time": "2019-10-29T19:49:31.228411Z",
     "start_time": "2019-10-29T19:49:31.215902Z"
    }
   },
   "outputs": [
    {
     "name": "stdout",
     "output_type": "stream",
     "text": [
      "('APPLE', 'ORANGE', 'BLACKBERRIES', 'BLUEBERRIES', 'STRAWBERRIES')\n"
     ]
    }
   ],
   "source": [
    "def all_caps(*args):\n",
    "    for word in args:\n",
    "        return str(word).upper()\n",
    "\n",
    "data = 'apple', 'orange', 'blackberries', 'blueberries', 'strawberries'\n",
    "\n",
    "print(all_caps(data))"
   ]
  },
  {
   "cell_type": "code",
   "execution_count": 10,
   "metadata": {
    "ExecuteTime": {
     "end_time": "2019-10-29T19:49:31.242112Z",
     "start_time": "2019-10-29T19:49:31.231824Z"
    }
   },
   "outputs": [
    {
     "name": "stdout",
     "output_type": "stream",
     "text": [
      "<generator object <genexpr> at 0x1089b97c8>\n",
      "('apple', 'orange', 'blackberries', 'blueberries', 'strawberries')\n"
     ]
    }
   ],
   "source": [
    "args = (*data, )\n",
    "lower_case = (str(args).lower() for word in args)\n",
    "print(lower_case)\n",
    "print(next(lower_case))"
   ]
  },
  {
   "cell_type": "code",
   "execution_count": 11,
   "metadata": {
    "ExecuteTime": {
     "end_time": "2019-10-29T19:49:31.259353Z",
     "start_time": "2019-10-29T19:49:31.245864Z"
    }
   },
   "outputs": [
    {
     "name": "stdout",
     "output_type": "stream",
     "text": [
      "data(book='Vagabonding', reviews='493', price='11.83', currency='USD', rating='4.5')\n",
      "data(book='Book_2', reviews='444', price='12.3', currency='GBP', rating='4.3')\n"
     ]
    }
   ],
   "source": [
    "from collections import namedtuple\n",
    "\n",
    "data = ['Vagabonding', '493', '11.83', 'USD', '4.5'], ['Book_2', '444', '12.3', 'GBP', '4.3']\n",
    "for args in data:\n",
    "        print(namedtuple('data', ['book', 'reviews', 'price', 'currency', 'rating'])(*args))\n",
    "# multiple lists of the same data to namedtuples w/ *args"
   ]
  },
  {
   "cell_type": "markdown",
   "metadata": {},
   "source": [
    "## \\**kwargs"
   ]
  },
  {
   "cell_type": "code",
   "execution_count": 12,
   "metadata": {
    "ExecuteTime": {
     "end_time": "2019-10-29T19:49:31.276589Z",
     "start_time": "2019-10-29T19:49:31.262414Z"
    }
   },
   "outputs": [
    {
     "name": "stdout",
     "output_type": "stream",
     "text": [
      "Jaipur\n",
      "India\n",
      "22\n",
      "15\n",
      "35\n"
     ]
    }
   ],
   "source": [
    "class Weather(object):\n",
    "    def __init__(self, city, country, temp, temp_max, temp_min, **kwargs):\n",
    "        self.city = city\n",
    "        self.country = country\n",
    "        self.temp = temp\n",
    "        self.temp_max = temp_max\n",
    "        self.temp_min = temp_min\n",
    "\n",
    "data = {'city':'Jaipur','country':'India','temp': '22','temp_min':'35','temp_max':'15'}\n",
    "weather = Weather(**data)\n",
    "\n",
    "print(weather.city)\n",
    "print(weather.country)\n",
    "print(weather.temp)\n",
    "print(weather.temp_max)\n",
    "print(weather.temp_min)\n",
    "# mapping json or dict to object w/ **kwargs"
   ]
  },
  {
   "cell_type": "code",
   "execution_count": 13,
   "metadata": {
    "ExecuteTime": {
     "end_time": "2019-10-29T19:49:31.289284Z",
     "start_time": "2019-10-29T19:49:31.278799Z"
    }
   },
   "outputs": [
    {
     "name": "stdout",
     "output_type": "stream",
     "text": [
      "data(book='Vagabonding', reviews='493', price='11.83', currency='USD', rating='4.5')\n"
     ]
    }
   ],
   "source": [
    "from collections import namedtuple\n",
    "\n",
    "data = {'book': 'Vagabonding', 'reviews': '493', 'price': '11.83', 'currency': 'USD', 'rating': '4.5'}\n",
    "book_data = namedtuple('data', ['book', 'reviews', 'price', 'currency', 'rating'])(**data)\n",
    "print(book_data)\n",
    "# dictionary to namedtuple w/ **kwargs"
   ]
  },
  {
   "cell_type": "code",
   "execution_count": null,
   "metadata": {
    "ExecuteTime": {
     "end_time": "2019-10-29T19:25:38.479696Z",
     "start_time": "2019-10-29T19:25:38.472380Z"
    }
   },
   "outputs": [],
   "source": []
  },
  {
   "cell_type": "code",
   "execution_count": null,
   "metadata": {},
   "outputs": [],
   "source": []
  }
 ],
 "metadata": {
  "kernelspec": {
   "display_name": "Python 3",
   "language": "python",
   "name": "python3"
  },
  "language_info": {
   "codemirror_mode": {
    "name": "ipython",
    "version": 3
   },
   "file_extension": ".py",
   "mimetype": "text/x-python",
   "name": "python",
   "nbconvert_exporter": "python",
   "pygments_lexer": "ipython3",
   "version": "3.7.3"
  }
 },
 "nbformat": 4,
 "nbformat_minor": 2
}
