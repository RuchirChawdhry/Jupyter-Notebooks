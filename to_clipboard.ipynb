{
 "cells": [
  {
   "cell_type": "markdown",
   "metadata": {},
   "source": [
    "Notebook by Ruchir Chawdhry<br>\n",
    "Released under MIT License<br>\n",
    "GitHub: [github.com/RuchirChawdhry/Jupyter-Notebooks](https://github.com/RuchirChawdhry/Jupyter-Notebooks)<br>\n",
    "LinkedIn: [linkedin.com/in/RuchirChawdhry](https://linkedin.com/in/RuchirChawdhry)<br>\n",
    "Website: [ruchirchawdhry.com](https://ruchirchawdhry.com)<br>"
   ]
  },
  {
   "cell_type": "code",
   "execution_count": 5,
   "metadata": {},
   "outputs": [],
   "source": [
    "import sys\n",
    "from subprocess import Popen, PIPE\n",
    "from contextlib import contextmanager"
   ]
  },
  {
   "cell_type": "code",
   "execution_count": 2,
   "metadata": {},
   "outputs": [],
   "source": [
    "class Clipboard:\n",
    "    def __init__(self, os, message):\n",
    "        self.os = os\n",
    "        self.message = message\n",
    "        \n",
    "    def _copy_mac(self):\n",
    "        with Popen(['echo', self.message], stdout=PIPE) as p1:\n",
    "            p2 = Popen(['pbcopy'], stdin=p1.stdout, stdout=PIPE)\n",
    "            p2.communicate()[0]\n",
    "            \n",
    "    def _copy_windows(self):\n",
    "        with Popen(['set', self.message], stdout=PIPE, encoding='utf-8') as p1:\n",
    "            p2 = Popen(['clip'], stdin=p1.stdout, stdout=PIPE)\n",
    "            p2.communicate()[0]\n",
    "        \n",
    "    def _copy_linux(self):\n",
    "        try:\n",
    "            with Popen(['echo', self.message], stdout=PIPE, encoding='utf-8') as p1:\n",
    "                p2 = Popen(['xclip', '-selection', 'c'], stdin=p1.stdout, stdout=PIPE)\n",
    "                p2.communicate()[0]\n",
    "        except:\n",
    "            with Popen(['echo', self.message], stdout=PIPE, encoding='utf-8') as p1:\n",
    "                p2 = Popen(['xsel', '--clipboard'], stdin=p1.stdout, stdout=PIPE)\n",
    "                p2.communicate()[0]\n",
    "        finally:\n",
    "            raise Exception('Please install xclip or xsel.')\n",
    "\n",
    "    def copy(self):\n",
    "        if self.os is 'mac':\n",
    "            self._copy_mac()\n",
    "        if self.os is 'windows':\n",
    "            self._copy_windows()\n",
    "        if self.os is 'linux':\n",
    "            self._copy_linux()"
   ]
  },
  {
   "cell_type": "code",
   "execution_count": 3,
   "metadata": {},
   "outputs": [],
   "source": [
    "clipboard = Clipboard(os='mac', message='this is a test')\n",
    "clipboard.copy()"
   ]
  }
 ],
 "metadata": {
  "kernelspec": {
   "display_name": "Python 3",
   "language": "python",
   "name": "python3"
  },
  "language_info": {
   "codemirror_mode": {
    "name": "ipython",
    "version": 3
   },
   "file_extension": ".py",
   "mimetype": "text/x-python",
   "name": "python",
   "nbconvert_exporter": "python",
   "pygments_lexer": "ipython3",
   "version": "3.7.6"
  }
 },
 "nbformat": 4,
 "nbformat_minor": 4
}
