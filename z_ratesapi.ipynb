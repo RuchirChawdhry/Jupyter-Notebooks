{
 "cells": [
  {
   "cell_type": "markdown",
   "metadata": {},
   "source": [
    "Notebook by Ruchir Chawdhry<br>\n",
    "Released under MIT License<br>\n",
    "GitHub: [github.com/RuchirChawdhry/Jupyter-Notebooks](https://github.com/RuchirChawdhry/Jupyter-Notebooks)<br>\n",
    "LinkedIn: [linkedin.com/in/RuchirChawdhry](https://linkedin.com/in/RuchirChawdhry)<br>\n",
    "Website: [ruchirchawdhry.com](https://ruchirchawdhry.com)<br>\n",
    "\n",
    "---"
   ]
  },
  {
   "cell_type": "markdown",
   "metadata": {},
   "source": [
    "# RatesAPI.io"
   ]
  },
  {
   "cell_type": "code",
   "execution_count": 1,
   "metadata": {
    "ExecuteTime": {
     "end_time": "2019-11-03T18:07:18.948181Z",
     "start_time": "2019-11-03T18:07:18.934467Z"
    }
   },
   "outputs": [],
   "source": [
    "# https://ratesapi.io/documentation/ "
   ]
  },
  {
   "cell_type": "code",
   "execution_count": 2,
   "metadata": {
    "ExecuteTime": {
     "end_time": "2019-11-03T18:07:19.280318Z",
     "start_time": "2019-11-03T18:07:18.952776Z"
    }
   },
   "outputs": [],
   "source": [
    "import requests as req\n",
    "from collections import namedtuple"
   ]
  },
  {
   "cell_type": "code",
   "execution_count": 3,
   "metadata": {
    "ExecuteTime": {
     "end_time": "2019-11-03T18:07:19.288872Z",
     "start_time": "2019-11-03T18:07:19.284207Z"
    }
   },
   "outputs": [],
   "source": [
    "# https://api.ratesapi.io/api/latest"
   ]
  },
  {
   "cell_type": "code",
   "execution_count": 4,
   "metadata": {
    "ExecuteTime": {
     "end_time": "2019-11-03T18:07:19.568913Z",
     "start_time": "2019-11-03T18:07:19.292574Z"
    }
   },
   "outputs": [],
   "source": [
    "r = req.get('https://api.ratesapi.io/api/latest').json()"
   ]
  },
  {
   "cell_type": "code",
   "execution_count": 5,
   "metadata": {
    "ExecuteTime": {
     "end_time": "2019-11-03T18:07:19.593645Z",
     "start_time": "2019-11-03T18:07:19.573538Z"
    }
   },
   "outputs": [
    {
     "data": {
      "text/plain": [
       "{'base': 'EUR',\n",
       " 'rates': {'GBP': 0.86008,\n",
       "  'HKD': 8.7298,\n",
       "  'IDR': 15640.93,\n",
       "  'ILS': 3.9272,\n",
       "  'DKK': 7.4712,\n",
       "  'INR': 78.816,\n",
       "  'CHF': 1.1013,\n",
       "  'MXN': 21.3164,\n",
       "  'CZK': 25.514,\n",
       "  'SGD': 1.5129,\n",
       "  'THB': 33.623,\n",
       "  'HRK': 7.46,\n",
       "  'MYR': 4.64,\n",
       "  'NOK': 10.1638,\n",
       "  'CNY': 7.844,\n",
       "  'BGN': 1.9558,\n",
       "  'PHP': 56.286,\n",
       "  'SEK': 10.6993,\n",
       "  'PLN': 4.2535,\n",
       "  'ZAR': 16.828,\n",
       "  'CAD': 1.4682,\n",
       "  'ISK': 138.1,\n",
       "  'BRL': 4.4437,\n",
       "  'RON': 4.7547,\n",
       "  'NZD': 1.7326,\n",
       "  'TRY': 6.3761,\n",
       "  'JPY': 120.43,\n",
       "  'RUB': 71.0786,\n",
       "  'KRW': 1300.09,\n",
       "  'USD': 1.1139,\n",
       "  'HUF': 328.33,\n",
       "  'AUD': 1.6151},\n",
       " 'date': '2019-11-01'}"
      ]
     },
     "metadata": {},
     "output_type": "display_data"
    }
   ],
   "source": [
    "display(r)"
   ]
  },
  {
   "cell_type": "code",
   "execution_count": 6,
   "metadata": {
    "ExecuteTime": {
     "end_time": "2019-11-03T18:07:19.610543Z",
     "start_time": "2019-11-03T18:07:19.599300Z"
    }
   },
   "outputs": [],
   "source": [
    "rates = r['rates']"
   ]
  },
  {
   "cell_type": "code",
   "execution_count": 7,
   "metadata": {
    "ExecuteTime": {
     "end_time": "2019-11-03T18:07:19.626550Z",
     "start_time": "2019-11-03T18:07:19.613159Z"
    }
   },
   "outputs": [
    {
     "data": {
      "text/plain": [
       "{'GBP': 0.86008,\n",
       " 'HKD': 8.7298,\n",
       " 'IDR': 15640.93,\n",
       " 'ILS': 3.9272,\n",
       " 'DKK': 7.4712,\n",
       " 'INR': 78.816,\n",
       " 'CHF': 1.1013,\n",
       " 'MXN': 21.3164,\n",
       " 'CZK': 25.514,\n",
       " 'SGD': 1.5129,\n",
       " 'THB': 33.623,\n",
       " 'HRK': 7.46,\n",
       " 'MYR': 4.64,\n",
       " 'NOK': 10.1638,\n",
       " 'CNY': 7.844,\n",
       " 'BGN': 1.9558,\n",
       " 'PHP': 56.286,\n",
       " 'SEK': 10.6993,\n",
       " 'PLN': 4.2535,\n",
       " 'ZAR': 16.828,\n",
       " 'CAD': 1.4682,\n",
       " 'ISK': 138.1,\n",
       " 'BRL': 4.4437,\n",
       " 'RON': 4.7547,\n",
       " 'NZD': 1.7326,\n",
       " 'TRY': 6.3761,\n",
       " 'JPY': 120.43,\n",
       " 'RUB': 71.0786,\n",
       " 'KRW': 1300.09,\n",
       " 'USD': 1.1139,\n",
       " 'HUF': 328.33,\n",
       " 'AUD': 1.6151}"
      ]
     },
     "metadata": {},
     "output_type": "display_data"
    }
   ],
   "source": [
    "display(rates)"
   ]
  },
  {
   "cell_type": "code",
   "execution_count": 8,
   "metadata": {
    "ExecuteTime": {
     "end_time": "2019-11-03T18:07:19.644931Z",
     "start_time": "2019-11-03T18:07:19.631113Z"
    }
   },
   "outputs": [],
   "source": [
    "# list of currencies\n",
    "currencies = [*rates]"
   ]
  },
  {
   "cell_type": "code",
   "execution_count": 9,
   "metadata": {
    "ExecuteTime": {
     "end_time": "2019-11-03T18:07:19.661206Z",
     "start_time": "2019-11-03T18:07:19.648773Z"
    }
   },
   "outputs": [
    {
     "data": {
      "text/plain": [
       "['GBP',\n",
       " 'HKD',\n",
       " 'IDR',\n",
       " 'ILS',\n",
       " 'DKK',\n",
       " 'INR',\n",
       " 'CHF',\n",
       " 'MXN',\n",
       " 'CZK',\n",
       " 'SGD',\n",
       " 'THB',\n",
       " 'HRK',\n",
       " 'MYR',\n",
       " 'NOK',\n",
       " 'CNY',\n",
       " 'BGN',\n",
       " 'PHP',\n",
       " 'SEK',\n",
       " 'PLN',\n",
       " 'ZAR',\n",
       " 'CAD',\n",
       " 'ISK',\n",
       " 'BRL',\n",
       " 'RON',\n",
       " 'NZD',\n",
       " 'TRY',\n",
       " 'JPY',\n",
       " 'RUB',\n",
       " 'KRW',\n",
       " 'USD',\n",
       " 'HUF',\n",
       " 'AUD']"
      ]
     },
     "metadata": {},
     "output_type": "display_data"
    }
   ],
   "source": [
    "display(currencies)"
   ]
  },
  {
   "cell_type": "code",
   "execution_count": 10,
   "metadata": {
    "ExecuteTime": {
     "end_time": "2019-11-03T18:07:19.673332Z",
     "start_time": "2019-11-03T18:07:19.664052Z"
    }
   },
   "outputs": [],
   "source": [
    "# from dict to list of tuples\n",
    "t_rates = [(k.lower(), v) for k, v in rates.items()] "
   ]
  },
  {
   "cell_type": "code",
   "execution_count": 11,
   "metadata": {
    "ExecuteTime": {
     "end_time": "2019-11-03T18:07:19.712190Z",
     "start_time": "2019-11-03T18:07:19.676455Z"
    }
   },
   "outputs": [
    {
     "data": {
      "text/plain": [
       "[('gbp', 0.86008),\n",
       " ('hkd', 8.7298),\n",
       " ('idr', 15640.93),\n",
       " ('ils', 3.9272),\n",
       " ('dkk', 7.4712),\n",
       " ('inr', 78.816),\n",
       " ('chf', 1.1013),\n",
       " ('mxn', 21.3164),\n",
       " ('czk', 25.514),\n",
       " ('sgd', 1.5129),\n",
       " ('thb', 33.623),\n",
       " ('hrk', 7.46),\n",
       " ('myr', 4.64),\n",
       " ('nok', 10.1638),\n",
       " ('cny', 7.844),\n",
       " ('bgn', 1.9558),\n",
       " ('php', 56.286),\n",
       " ('sek', 10.6993),\n",
       " ('pln', 4.2535),\n",
       " ('zar', 16.828),\n",
       " ('cad', 1.4682),\n",
       " ('isk', 138.1),\n",
       " ('brl', 4.4437),\n",
       " ('ron', 4.7547),\n",
       " ('nzd', 1.7326),\n",
       " ('try', 6.3761),\n",
       " ('jpy', 120.43),\n",
       " ('rub', 71.0786),\n",
       " ('krw', 1300.09),\n",
       " ('usd', 1.1139),\n",
       " ('huf', 328.33),\n",
       " ('aud', 1.6151)]"
      ]
     },
     "metadata": {},
     "output_type": "display_data"
    }
   ],
   "source": [
    "display(t_rates) "
   ]
  },
  {
   "cell_type": "code",
   "execution_count": 12,
   "metadata": {
    "ExecuteTime": {
     "end_time": "2019-11-03T18:07:19.729830Z",
     "start_time": "2019-11-03T18:07:19.714180Z"
    }
   },
   "outputs": [],
   "source": [
    "# to namedtuple, but uppercase \n",
    "# (lowercase will give a ValueError because one of the fields will end up being 'try')\n",
    "forex = namedtuple('forex', [*currencies])(**rates)"
   ]
  },
  {
   "cell_type": "code",
   "execution_count": 13,
   "metadata": {
    "ExecuteTime": {
     "end_time": "2019-11-03T18:07:19.746188Z",
     "start_time": "2019-11-03T18:07:19.732240Z"
    }
   },
   "outputs": [
    {
     "name": "stdout",
     "output_type": "stream",
     "text": [
      "forex(GBP=0.86008, HKD=8.7298, IDR=15640.93, ILS=3.9272, DKK=7.4712, INR=78.816, CHF=1.1013, MXN=21.3164, CZK=25.514, SGD=1.5129, THB=33.623, HRK=7.46, MYR=4.64, NOK=10.1638, CNY=7.844, BGN=1.9558, PHP=56.286, SEK=10.6993, PLN=4.2535, ZAR=16.828, CAD=1.4682, ISK=138.1, BRL=4.4437, RON=4.7547, NZD=1.7326, TRY=6.3761, JPY=120.43, RUB=71.0786, KRW=1300.09, USD=1.1139, HUF=328.33, AUD=1.6151)\n"
     ]
    }
   ],
   "source": [
    "print(forex)"
   ]
  },
  {
   "cell_type": "code",
   "execution_count": 14,
   "metadata": {
    "ExecuteTime": {
     "end_time": "2019-11-03T18:07:19.757311Z",
     "start_time": "2019-11-03T18:07:19.748296Z"
    }
   },
   "outputs": [],
   "source": [
    "# https://api.ratesapi.io/api/latest?base=USD&symbols=GBP"
   ]
  },
  {
   "cell_type": "code",
   "execution_count": 15,
   "metadata": {
    "ExecuteTime": {
     "end_time": "2019-11-03T18:07:20.037934Z",
     "start_time": "2019-11-03T18:07:19.761368Z"
    }
   },
   "outputs": [],
   "source": [
    "r = req.get('https://api.ratesapi.io/api/latest?base=USD&symbols=GBP').json()"
   ]
  },
  {
   "cell_type": "code",
   "execution_count": 16,
   "metadata": {
    "ExecuteTime": {
     "end_time": "2019-11-03T18:07:20.044241Z",
     "start_time": "2019-11-03T18:07:20.039741Z"
    }
   },
   "outputs": [],
   "source": [
    "base = r['base']\n",
    "rate = r['rates']\n",
    "currency = r['rates'].keys()\n",
    "date = r['date']"
   ]
  },
  {
   "cell_type": "code",
   "execution_count": 17,
   "metadata": {
    "ExecuteTime": {
     "end_time": "2019-11-03T18:07:20.052902Z",
     "start_time": "2019-11-03T18:07:20.046571Z"
    }
   },
   "outputs": [
    {
     "name": "stdout",
     "output_type": "stream",
     "text": [
      "{'GBP': 0.7721339438}\n"
     ]
    }
   ],
   "source": [
    "print(rate)"
   ]
  },
  {
   "cell_type": "code",
   "execution_count": 18,
   "metadata": {
    "ExecuteTime": {
     "end_time": "2019-11-03T18:07:20.064409Z",
     "start_time": "2019-11-03T18:07:20.056910Z"
    }
   },
   "outputs": [
    {
     "name": "stdout",
     "output_type": "stream",
     "text": [
      "dict_keys(['GBP'])\n"
     ]
    }
   ],
   "source": [
    "print(currency)"
   ]
  },
  {
   "cell_type": "code",
   "execution_count": 19,
   "metadata": {
    "ExecuteTime": {
     "end_time": "2019-11-03T18:07:20.077167Z",
     "start_time": "2019-11-03T18:07:20.067000Z"
    }
   },
   "outputs": [],
   "source": [
    "_base, _rate, _date = r.values()\n",
    "_currency = [*_rate]"
   ]
  },
  {
   "cell_type": "code",
   "execution_count": 20,
   "metadata": {
    "ExecuteTime": {
     "end_time": "2019-11-03T18:07:20.095965Z",
     "start_time": "2019-11-03T18:07:20.079547Z"
    }
   },
   "outputs": [
    {
     "name": "stdout",
     "output_type": "stream",
     "text": [
      "USD\n",
      "{'GBP': 0.7721339438}\n",
      "2019-11-01\n",
      "['GBP']\n"
     ]
    }
   ],
   "source": [
    "print(_base)\n",
    "print(_rate)\n",
    "print(_date)\n",
    "print(_currency)"
   ]
  },
  {
   "cell_type": "code",
   "execution_count": 21,
   "metadata": {
    "ExecuteTime": {
     "end_time": "2019-11-03T18:07:20.115076Z",
     "start_time": "2019-11-03T18:07:20.099234Z"
    }
   },
   "outputs": [],
   "source": [
    "# https://api.ratesapi.io/api/latest?base=INR"
   ]
  },
  {
   "cell_type": "code",
   "execution_count": 22,
   "metadata": {
    "ExecuteTime": {
     "end_time": "2019-11-03T18:07:20.396513Z",
     "start_time": "2019-11-03T18:07:20.118065Z"
    }
   },
   "outputs": [],
   "source": [
    "r = req.get('https://api.ratesapi.io/api/latest?base=INR').json()"
   ]
  },
  {
   "cell_type": "code",
   "execution_count": 23,
   "metadata": {
    "ExecuteTime": {
     "end_time": "2019-11-03T18:07:20.412730Z",
     "start_time": "2019-11-03T18:07:20.406747Z"
    }
   },
   "outputs": [
    {
     "data": {
      "text/plain": [
       "{'base': 'INR',\n",
       " 'rates': {'GBP': 0.0109125051,\n",
       "  'HKD': 0.1107617743,\n",
       "  'IDR': 198.4486652456,\n",
       "  'ILS': 0.0498274462,\n",
       "  'DKK': 0.0947929354,\n",
       "  'INR': 1.0,\n",
       "  'CHF': 0.0139730512,\n",
       "  'MXN': 0.2704577751,\n",
       "  'CZK': 0.3237159968,\n",
       "  'SGD': 0.019195341,\n",
       "  'THB': 0.4266011977,\n",
       "  'HRK': 0.0946508323,\n",
       "  'EUR': 0.0126877791,\n",
       "  'MYR': 0.0588712952,\n",
       "  'NOK': 0.1289560495,\n",
       "  'CNY': 0.0995229395,\n",
       "  'BGN': 0.0248147584,\n",
       "  'PHP': 0.7141443362,\n",
       "  'PLN': 0.0539674685,\n",
       "  'ZAR': 0.2135099472,\n",
       "  'CAD': 0.0186281973,\n",
       "  'ISK': 1.752182298,\n",
       "  'BRL': 0.0563806841,\n",
       "  'RON': 0.0603265834,\n",
       "  'NZD': 0.0219828461,\n",
       "  'TRY': 0.0808985485,\n",
       "  'JPY': 1.5279892408,\n",
       "  'RUB': 0.9018295778,\n",
       "  'KRW': 16.4952547706,\n",
       "  'USD': 0.0141329172,\n",
       "  'AUD': 0.0204920321,\n",
       "  'HUF': 4.1657785221,\n",
       "  'SEK': 0.1357503553},\n",
       " 'date': '2019-11-01'}"
      ]
     },
     "metadata": {},
     "output_type": "display_data"
    }
   ],
   "source": [
    "display(r)"
   ]
  },
  {
   "cell_type": "code",
   "execution_count": 24,
   "metadata": {
    "ExecuteTime": {
     "end_time": "2019-11-03T18:07:20.422542Z",
     "start_time": "2019-11-03T18:07:20.415384Z"
    }
   },
   "outputs": [
    {
     "name": "stdout",
     "output_type": "stream",
     "text": [
      "['GBP', 'HKD', 'IDR', 'ILS', 'DKK', 'INR', 'CHF', 'MXN', 'CZK', 'SGD', 'THB', 'HRK', 'EUR', 'MYR', 'NOK', 'CNY', 'BGN', 'PHP', 'PLN', 'ZAR', 'CAD', 'ISK', 'BRL', 'RON', 'NZD', 'TRY', 'JPY', 'RUB', 'KRW', 'USD', 'AUD', 'HUF', 'SEK']\n"
     ]
    }
   ],
   "source": [
    "_r = [*r.get('rates')]\n",
    "rates = r['rates']\n",
    "print(_r)"
   ]
  },
  {
   "cell_type": "code",
   "execution_count": 25,
   "metadata": {
    "ExecuteTime": {
     "end_time": "2019-11-03T18:07:20.431488Z",
     "start_time": "2019-11-03T18:07:20.425307Z"
    }
   },
   "outputs": [],
   "source": [
    "INR = namedtuple('rates', [*_r])(**rates)"
   ]
  },
  {
   "cell_type": "code",
   "execution_count": 26,
   "metadata": {
    "ExecuteTime": {
     "end_time": "2019-11-03T18:07:20.449657Z",
     "start_time": "2019-11-03T18:07:20.439915Z"
    }
   },
   "outputs": [
    {
     "data": {
      "text/plain": [
       "0.1357503553"
      ]
     },
     "execution_count": 26,
     "metadata": {},
     "output_type": "execute_result"
    }
   ],
   "source": [
    "INR.SEK"
   ]
  },
  {
   "cell_type": "code",
   "execution_count": 27,
   "metadata": {
    "ExecuteTime": {
     "end_time": "2019-11-03T18:07:20.472134Z",
     "start_time": "2019-11-03T18:07:20.460737Z"
    }
   },
   "outputs": [
    {
     "data": {
      "text/plain": [
       "0.0539674685"
      ]
     },
     "execution_count": 27,
     "metadata": {},
     "output_type": "execute_result"
    }
   ],
   "source": [
    "INR.PLN"
   ]
  },
  {
   "cell_type": "code",
   "execution_count": 28,
   "metadata": {
    "ExecuteTime": {
     "end_time": "2019-11-03T18:07:20.483446Z",
     "start_time": "2019-11-03T18:07:20.475858Z"
    }
   },
   "outputs": [
    {
     "data": {
      "text/plain": [
       "0.7141443362"
      ]
     },
     "execution_count": 28,
     "metadata": {},
     "output_type": "execute_result"
    }
   ],
   "source": [
    "INR.PHP"
   ]
  },
  {
   "cell_type": "code",
   "execution_count": 29,
   "metadata": {
    "ExecuteTime": {
     "end_time": "2019-11-03T18:07:20.494961Z",
     "start_time": "2019-11-03T18:07:20.486625Z"
    }
   },
   "outputs": [],
   "source": [
    "# https://api.ratesapi.io/api/latest?symbols=USD,GBP,INR"
   ]
  },
  {
   "cell_type": "code",
   "execution_count": 30,
   "metadata": {
    "ExecuteTime": {
     "end_time": "2019-11-03T18:07:20.795355Z",
     "start_time": "2019-11-03T18:07:20.498178Z"
    }
   },
   "outputs": [],
   "source": [
    "r = req.get('https://api.ratesapi.io/api/latest?symbols=USD,GBP,INR').json()"
   ]
  },
  {
   "cell_type": "code",
   "execution_count": 31,
   "metadata": {
    "ExecuteTime": {
     "end_time": "2019-11-03T18:07:20.812593Z",
     "start_time": "2019-11-03T18:07:20.798036Z"
    }
   },
   "outputs": [
    {
     "data": {
      "text/plain": [
       "{'base': 'EUR',\n",
       " 'rates': {'USD': 1.1139, 'INR': 78.816, 'GBP': 0.86008},\n",
       " 'date': '2019-11-01'}"
      ]
     },
     "metadata": {},
     "output_type": "display_data"
    }
   ],
   "source": [
    "display(r)"
   ]
  },
  {
   "cell_type": "code",
   "execution_count": 32,
   "metadata": {
    "ExecuteTime": {
     "end_time": "2019-11-03T18:07:20.827051Z",
     "start_time": "2019-11-03T18:07:20.815621Z"
    }
   },
   "outputs": [],
   "source": [
    "rates = r.get('rates')"
   ]
  },
  {
   "cell_type": "code",
   "execution_count": 33,
   "metadata": {
    "ExecuteTime": {
     "end_time": "2019-11-03T18:07:20.844317Z",
     "start_time": "2019-11-03T18:07:20.829825Z"
    }
   },
   "outputs": [
    {
     "name": "stdout",
     "output_type": "stream",
     "text": [
      "{'USD': 1.1139, 'INR': 78.816, 'GBP': 0.86008}\n"
     ]
    }
   ],
   "source": [
    "print(rates)"
   ]
  },
  {
   "cell_type": "code",
   "execution_count": 34,
   "metadata": {
    "ExecuteTime": {
     "end_time": "2019-11-03T18:07:23.821459Z",
     "start_time": "2019-11-03T18:07:20.849954Z"
    }
   },
   "outputs": [
    {
     "name": "stdout",
     "output_type": "stream",
     "text": [
      "? USD\n"
     ]
    },
    {
     "data": {
      "text/plain": [
       "{'base': 'EUR', 'rates': {'USD': 1.1139}, 'date': '2019-11-01'}"
      ]
     },
     "metadata": {},
     "output_type": "display_data"
    }
   ],
   "source": [
    "base_currency = input('? ')\n",
    "r = req.get('https://api.ratesapi.io/api/latest?symbols='+base_currency).json()\n",
    "display(r)\n",
    "currencies = [*r.get('rates')]\n",
    "rates = r['rates']"
   ]
  },
  {
   "cell_type": "code",
   "execution_count": null,
   "metadata": {
    "ExecuteTime": {
     "end_time": "2019-11-03T15:55:23.221380Z",
     "start_time": "2019-11-03T15:55:23.216292Z"
    }
   },
   "outputs": [],
   "source": []
  }
 ],
 "metadata": {
  "kernelspec": {
   "display_name": "Python 3",
   "language": "python",
   "name": "python3"
  },
  "language_info": {
   "codemirror_mode": {
    "name": "ipython",
    "version": 3
   },
   "file_extension": ".py",
   "mimetype": "text/x-python",
   "name": "python",
   "nbconvert_exporter": "python",
   "pygments_lexer": "ipython3",
   "version": "3.7.3"
  }
 },
 "nbformat": 4,
 "nbformat_minor": 2
}
